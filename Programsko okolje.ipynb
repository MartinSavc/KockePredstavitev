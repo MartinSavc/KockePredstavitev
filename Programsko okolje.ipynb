{
 "cells": [
  {
   "cell_type": "markdown",
   "metadata": {},
   "source": [
    "# Programsko okolje\n",
    "\n",
    "* [python](https://www.python.org/) - programski/skriptni jezik\n",
    "* [jupyter notebook](https://jupyter.org/) - interaktivni spletni vmesnik, zvezek\n",
    "* [numpy,scipy](https://scipy.org/) - knjižnice za delo z numeričnimi podatki (slike, zvoki, ...) \n",
    "* [opencv](https://opencv.org/) - knjižnica za računalniški vid\n",
    "* [tensorflow]() - knjižnica za učenje nevronskih mrež (in drugih stvari)\n",
    "* [matplotlib]() - knjižnica za prikaz diagramov, slik\n",
    "* [anaconda](https://www.anaconda.com/) - platforma za preprosto nameščanje in uporabljanje teh orodij\n"
   ]
  },
  {
   "cell_type": "markdown",
   "metadata": {},
   "source": [
    "#### Python\n",
    "\n",
    "Programski jezik, dokaj popularen za učenje programiranja kot tudi za resnejše projekte.\n",
    "\n",
    "#### Jupyter notebook\n",
    "\n",
    "Je to okolje, v katerem lahko besedilo, kodo in diagrame razdelimo v celice in prepredemo, kot bi to storili v knjigi (ali zvezku). Meni omogoča kodo opremiti z besedilom in izrisi rezultatov. Vam pa omogoča, da kasneje to kodo poženete in sami preizkusite primere.\n",
    "\n",
    "#### Numpy in Scipy\n",
    "\n",
    "Knjižnici, ki omogočata hitro računanje z večjimi količinami števil hranjenim v tabele - kot so na primer slike ali zvok.\n",
    "\n",
    "#### OpenCV\n",
    "\n",
    "Knjižnica z številnimi bolj ali manj kompleksnimi algoritmi za računalniški vid. \n",
    "\n",
    "#### Tensorflow\n",
    "\n",
    "Knjižnica za globoko učenje, kjer z elementi operiramo podobno kot z Numpy tabelami.\n",
    "\n",
    "#### Matplotlib\n",
    "\n",
    "Knjižnica za preprost izris diagramov in slik.\n",
    "\n",
    "#### Anaconda\n",
    "\n",
    "Eko sistem, kjer lahko vsa ta orodja in mariskatera druga preprosto namestite. "
   ]
  },
  {
   "cell_type": "markdown",
   "metadata": {},
   "source": [
    "## Nameščanje Anaconde\n",
    "\n",
    "V kolikor želite sami vzpostaviti ustrezen sistem, najprej namestite okolje Anaconda. Ustrezno različico najdete [tukaj](https://www.anaconda.com/download/#linux). Namestite si okolje za Python 3.6 ali več.\n",
    "\n",
    "Po namestitvi sistema boste lahko odprli **ukazno vrstico z Anaconda eko-sistemom**. V nadaljevanju tega dokumenta ukaze vnašamo v to vrstico. \n",
    "\n",
    "Nato lahko takoj pričnete z nameščanjem, je pa priporočljivo, da **najprej vzpostavite novo okolje**. \n",
    "\n",
    "**Na Windows** računalniku samo iščite Anaconda v Start meniju. Pojaviti bi se vam moralo nekaj nameščenih programov, eden izmed njih je ukazna vrstica (*ang. command prompt*).\n",
    "\n",
    "Če morda uporabljate **Linux**, bo način zagona odvisen od tipa namestitve. Odprete lahko poljubni terminal. V kolikor ste Anacondo namestili kot del sistema, jo lahko takoj uporabljate. V kolikor ste jo namestili v vašo domačo pot, pa boste najbrž morali najprej namestitev najprej ustrezno aktivirati.\n",
    "\n"
   ]
  },
  {
   "cell_type": "markdown",
   "metadata": {},
   "source": [
    "## Ustvarjanje novega okolja\n",
    "\n",
    "(podrobna navodila najdete [tukaj](https://conda.io/docs/user-guide/tasks/manage-environments.html))\n",
    "\n",
    "Anaconda omogoča nameščanje različnih konfiguracij v različna okolja. Tako lahko namestite orodja za strojno učenje v eno okolje, knjižnice za programiranje iger pa v drugo okolje. Okolja se ne bosta motila med sabo, vso urejanje in uporabo pa nadzira in upravlja Anaconda.\n",
    "\n",
    "Trenuten seznam okolji dobimo z ukazom (brez znaka $):\n",
    "\n",
    "```\n",
    "$ conda info --envs\n",
    "```\n",
    "kar izpiše:\n",
    "```\n",
    "# conda environments:\n",
    "# \n",
    "base              * /home/martin/anaconda3\n",
    "```\n",
    "Okolje *base* je začetno okolje. Zvezdica označuje, da je to okolje trenutno v uporabi. Pot pa nam pove, kje se hranijo datoteke povezane s tem okoljem.\n",
    "\n",
    "Novo okolje z imenom *kocke* ustvarimo z ukazom:\n",
    "```\n",
    "$ conda create --name kocke\n",
    "```\n",
    "Le izpiše nekaj teksta in nas vpraša če želimo nadaljevati. \n",
    "Na to lahko pritrdilno odgovorimo, izpiše se še nekaj teksta in navodila za uporabo okolja.\n",
    "\n",
    "Okolje *kocke* lahko aktiviramo z ukazom\n",
    "\n",
    "```\n",
    "$ conda activate kocke\n",
    "```\n",
    "\n",
    "Ko aktiviramo okolje, lahko pričnemo z nameščanjem paketov. V kolikor ne uporabljamo svojega okolja, se paketi privzeto namestijo v okolje *base*."
   ]
  },
  {
   "cell_type": "markdown",
   "metadata": {},
   "source": [
    "## Nameščanje paketov\n",
    "\n",
    "(podrobna navodila za upravljanje s paketi najdete [tukaj](https://conda.io/docs/user-guide/tasks/manage-pkgs.html))\n",
    "\n",
    "Pakete lahko poiščemo in nameščamo z ukazom *conda*. Da namestimo *Jupyter Notebook* izvedemo ukaz:\n",
    "\n",
    "```\n",
    "$ conda install notebook\n",
    "```\n",
    "\n",
    "Tako bi lahko namestili en paket za drugim (poznati potrebujemo le njegovo ime). Namestimo jih lahko tudi z enim ukazom:\n",
    "\n",
    "```\n",
    "$ conda install notebook numpy scipy matplotlib tensorflow opencv\n",
    "```"
   ]
  },
  {
   "cell_type": "markdown",
   "metadata": {},
   "source": [
    "## Zagon zvezka\n",
    "\n",
    "Po namestitvi se lahko premaknemo v pot, kjer imamo hranjene zvezke. Tam poženemo ukaz:\n",
    "\n",
    "```\n",
    "$ jupyter notebook\n",
    "```\n",
    "\n",
    "in v spletnem brskalniku se nam bo odprlo okno z vsebino mape. S klikom izberemo in odpremo ustrezen zvezek v novem zavihku.\n"
   ]
  }
 ],
 "metadata": {
  "kernelspec": {
   "display_name": "Python 3",
   "language": "python",
   "name": "python3"
  },
  "language_info": {
   "codemirror_mode": {
    "name": "ipython",
    "version": 3
   },
   "file_extension": ".py",
   "mimetype": "text/x-python",
   "name": "python",
   "nbconvert_exporter": "python",
   "pygments_lexer": "ipython3",
   "version": "3.6.8"
  }
 },
 "nbformat": 4,
 "nbformat_minor": 2
}
