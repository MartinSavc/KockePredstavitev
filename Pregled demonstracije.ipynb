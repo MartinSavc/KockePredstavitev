{
 "cells": [
  {
   "cell_type": "markdown",
   "metadata": {},
   "source": [
    "# Pregled demonstracije\n",
    "\n",
    "Demonstracija je sestavljena iz treh ključnih operacij:\n",
    "\n",
    "* detekcija igralne površine\n",
    "* detekcija kock\n",
    "* prepoznava kock"
   ]
  },
  {
   "cell_type": "markdown",
   "metadata": {},
   "source": [
    "## Detekcija igralne površine\n",
    "\n",
    "Specifična oblika in izgled posode za kocke nam omogoča preprostejšo detekcijo. Ne rabimo strojnega učenja, velike količine primerov in drugih kompleksnih metod.\n",
    "\n",
    "![primer](primer.png)\n",
    "\n",
    "* črn rob posode\n",
    "    * kontrast z ozadjem\n",
    "* bela črta na vrhu\n",
    "    * kontrast s črno barvo\n",
    "    * vidna z različnih kotov pogleda\n",
    "* oblika osemkotnika\n",
    "    * redko prisoten v sceni"
   ]
  },
  {
   "cell_type": "markdown",
   "metadata": {},
   "source": [
    "## Detekcija kock\n"
   ]
  },
  {
   "cell_type": "markdown",
   "metadata": {},
   "source": [
    "Za detekcijo kock se lahko nato omejimo na regijo znotraj posode. Problem je še vedno dokaj težek, zato bi uporabili strojno učenje. Za to pa potrebujemo **veliko količino učnih primerov**.\n",
    "\n",
    "Postopek je sledeč:\n",
    "\n",
    "* zajamemo večjo količino slik\n",
    "* ročno označimo željene predmete\n",
    "* učimo algoritem\n",
    "\n",
    "![](oznake.png)\n",
    "\n",
    "Sam cilj učenja je lahko precej različen. V grobem jih lahko radelimo na:\n",
    "\n",
    "* iskanje pozicije (točke, ta predstavitev)\n",
    "    * najdemo le pozicijo\n",
    "    * velikost morda že poznamo\n",
    "    * najmanj označevanja\n",
    "* iskanje pravokotne regije [R-CNN mreža](https://github.com/endernewton/tf-faster-rcnn)\n",
    "    * dobimo tudi velikost\n",
    "    * moramo označiti ustrezno regijo \n",
    "    * težje učenje\n",
    "* iskanje maske [R-CNN z maskami](https://github.com/matterport/Mask_RCNN)\n",
    "    * dobimo silhueto\n",
    "    * najbolj naporno označevanje\n",
    "    * najtežje učenje\n",
    "    * najbolj uporaben rezultat\n"
   ]
  },
  {
   "cell_type": "markdown",
   "metadata": {},
   "source": [
    "## Prepoznava kock\n",
    "\n",
    "Prepoznava kock je podoben problem kot detekcija. Ker bomo težko sami razvili dobro metodo štetja pik na kockah, raje pripravimo večjo količino učnih primerov in uporabimo algoritem strojnega učenja.\n",
    "\n",
    "Prepoznava je v primerjavi z detekcijo bolj preprosta. \n",
    "V kolikor imamo končno število možnih stanj lahko algoritem naučimo, da sliko kocke označi z enim od stanj.\n",
    "Ta stanja lahko predstavljajo 6 vrednosti, lahko pa tudi druge lastnosti kocke.\n",
    "\n",
    "* označimo in izrežemo kocke\n",
    "* označimo vrednosti\n",
    "* naučimo algoritem\n",
    "\n",
    "[TensorFlow, Keras tutorial](https://www.tensorflow.org/tutorials/keras/basic_classification)"
   ]
  }
 ],
 "metadata": {
  "kernelspec": {
   "display_name": "Python 3",
   "language": "python",
   "name": "python3"
  },
  "language_info": {
   "codemirror_mode": {
    "name": "ipython",
    "version": 3
   },
   "file_extension": ".py",
   "mimetype": "text/x-python",
   "name": "python",
   "nbconvert_exporter": "python",
   "pygments_lexer": "ipython3",
   "version": "3.6.8"
  }
 },
 "nbformat": 4,
 "nbformat_minor": 2
}
